{
 "cells": [
  {
   "cell_type": "markdown",
   "id": "fb61c1e6",
   "metadata": {},
   "source": [
    "# 訓練資料前處理"
   ]
  },
  {
   "cell_type": "markdown",
   "id": "7f810602",
   "metadata": {},
   "source": [
    "### 第一階段\n",
    "- 去除髒話\n",
    "- 翻譯"
   ]
  },
  {
   "cell_type": "code",
   "execution_count": 1,
   "id": "c8849ade",
   "metadata": {},
   "outputs": [],
   "source": [
    "from better_profanity import profanity\n",
    "from googletrans import Translator\n",
    "import csv"
   ]
  },
  {
   "cell_type": "markdown",
   "id": "6fe1332d",
   "metadata": {},
   "source": [
    "### 引入翻譯以及髒話清理套件\n",
    "\n",
    "profanity 可以篩選出許多常見英文髒話，也會偵測類似字 (EX : ass, 4ss, bitch, b1tch)"
   ]
  },
  {
   "cell_type": "code",
   "execution_count": null,
   "id": "75e074b1",
   "metadata": {},
   "outputs": [],
   "source": [
    "translator = Translator()\n",
    "datalist = []\n",
    "\n",
    "with open('abusive.csv', newline='', encoding='utf-8') as csvfile:\n",
    "    rows = csv.reader(csvfile)\n",
    "    for row in rows:\n",
    "        #清除髒字\n",
    "        text = profanity.censor(row, \"\")\n",
    "        try:\n",
    "            result = translator.translate(text, dest='zh-tw').text\n",
    "            datalist.append(result)\n",
    "        except:\n",
    "            continue"
   ]
  },
  {
   "cell_type": "markdown",
   "id": "48edbf96",
   "metadata": {},
   "source": [
    "### 存成 CSV\n",
    "#### stage1.csv"
   ]
  },
  {
   "cell_type": "code",
   "execution_count": null,
   "id": "37815c71",
   "metadata": {},
   "outputs": [],
   "source": [
    "import pandas as pd\n",
    "bar_name = list(datalist) \n",
    "store = pd.DataFrame(data = datalist)\n",
    "store.to_csv('abusive_clean_stage1.csv', encoding = 'utf-8_sig',index = True)"
   ]
  },
  {
   "cell_type": "markdown",
   "id": "bf335413",
   "metadata": {},
   "source": [
    "### 第二階段\n",
    "- 清除其餘髒東西 (URL, RT, @...)\n",
    "####  Regex 邏輯：\n",
    "\n",
    "##### 照順序往下掃\n",
    "\n",
    "- 將用戶 @blablabla 替換成 \"你\"\n",
    "- 將網址去除\n",
    "- 空格去除\n",
    "- 非中文去除 (除了英文，還可以去除 emoji 和 # 之類的麻煩符號)"
   ]
  },
  {
   "cell_type": "code",
   "execution_count": null,
   "id": "3e7b15e4",
   "metadata": {},
   "outputs": [],
   "source": [
    "import re\n",
    "\n",
    "user = re.compile('(@[^\\w]*)')\n",
    "url = re.compile('((https?):((//)|(\\\\\\\\))+[\\w\\d:#@%/;$()~_?\\+-=\\\\\\.&]*)')\n",
    "spacechar = re.compile('(\\\\s){1,}')\n",
    "non_chinese = re.compile('([^\\u4e00-\\u9fa5，。！：])')"
   ]
  },
  {
   "cell_type": "markdown",
   "id": "e53b4085",
   "metadata": {},
   "source": [
    "### 開始清理\n",
    "##### 將 stage1.csv 餵進去二次清洗"
   ]
  },
  {
   "cell_type": "code",
   "execution_count": null,
   "id": "4dc7bb1f",
   "metadata": {},
   "outputs": [],
   "source": [
    "datalist = []\n",
    "\n",
    "with open('abusive_clean_stage1.csv', newline='', encoding='utf-8') as csvfile:\n",
    "  rows = csv.reader(csvfile)\n",
    "  for row in rows:\n",
    "        content = re.sub(url, \"\", row[1])\n",
    "        content = re.sub(user, \"你\", content)\n",
    "        content = re.sub(\"RT\", \"\", content)\n",
    "        content = re.sub(spacechar, \"\", content)\n",
    "        content = re.sub(non_chinese, \"\", content)\n",
    "        content = re.sub(\"你：\", \"\", content)\n",
    "        content = re.sub(\"白痴\", \"人\", content)\n",
    "        #去除所有疊字\n",
    "        content = re.sub(r\"(.)(\\1+)\", r\"\\1\", content)\n",
    "        if content != \"\":\n",
    "            datalist.append(content)"
   ]
  },
  {
   "cell_type": "markdown",
   "id": "8a3be257",
   "metadata": {},
   "source": [
    "#### 確認一下資料有沒有清乾淨"
   ]
  },
  {
   "cell_type": "code",
   "execution_count": null,
   "id": "a3a9d383",
   "metadata": {},
   "outputs": [],
   "source": [
    "datalist"
   ]
  },
  {
   "cell_type": "markdown",
   "id": "0f79cdd8",
   "metadata": {},
   "source": [
    "### 存成 CSV\n",
    "#### stage2.csv"
   ]
  },
  {
   "cell_type": "code",
   "execution_count": null,
   "id": "5e69acae",
   "metadata": {},
   "outputs": [],
   "source": [
    "import pandas as pd\n",
    "bar_name = list(datalist) \n",
    "store = pd.DataFrame(data = datalist)\n",
    "store.to_csv('abusive_clean_stage2.csv', encoding = 'utf-8_sig',index = True)"
   ]
  }
 ],
 "metadata": {
  "kernelspec": {
   "display_name": "Python 3 (ipykernel)",
   "language": "python",
   "name": "python3"
  },
  "language_info": {
   "codemirror_mode": {
    "name": "ipython",
    "version": 3
   },
   "file_extension": ".py",
   "mimetype": "text/x-python",
   "name": "python",
   "nbconvert_exporter": "python",
   "pygments_lexer": "ipython3",
   "version": "3.9.12"
  }
 },
 "nbformat": 4,
 "nbformat_minor": 5
}
